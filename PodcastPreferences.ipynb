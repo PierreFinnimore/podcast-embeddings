{
 "cells": [
  {
   "cell_type": "markdown",
   "metadata": {},
   "source": [
    "# Podcast Recommender\n",
    "In providing tools for podcasters, I thought it might be important to have some metric of a podcast's similarity to another.\n",
    "\n",
    "This could be useful for providing recommendations for listeners, or automatic grouping of podcasts by genre, or providing tailored assistance to podcast creators (for example, there might be some advice that works really well for non-fiction nature podcasts, but not so well for fictional comedy podcasts).\n",
    "\n",
    "Obviously to accomplish this task well, you would want to use all sorts of data, like the tags which the podcast maker gave to their podcast, the text of the podcast description, the number of episodes, the length of each episode and so on.\n",
    "\n",
    "## The Challenge\n",
    "However, sometimes this data is missing or misleading, such as if a podcaster gives the wrong tags, or no tags at all.\n",
    "\n",
    "It also might not capture deeper similarities between podcasts. For example, if we only have one 'Comedy' tag, we might end up lumping very different podcasts into the same category; imagine a cynical, nihilistic, dark comedy vs a uplifting, optimistic, family-friendly comedy. Adding more tags is only a stop-gap solution, as there is always more nuance, and with every new tag, you increase the likelihood that a person will not be aware of exactly which tag to apply to their podcast.\n",
    "\n",
    "## My Approach\n",
    "Embeddings seem like a good solution to this problem. They provide a way to represent each podcast, such that we can measure how similar each one is to the others, and cluster similar podcasts together.\n",
    "\n",
    "One way of generating these could be through \"mutual likes\". Given the fact that people tend to have reasonably stable preferences, if a person likes two podcasts, it is more likely than not that those two podcasts share something in common. Obviously this is a noisy assumption, since some people get different things from different podcasts, but this is the sort of data that I thought would be likely for a podcasting company to have."
   ]
  },
  {
   "cell_type": "code",
   "execution_count": 86,
   "metadata": {},
   "outputs": [],
   "source": [
    "import warnings\n",
    "with warnings.catch_warnings():\n",
    "    warnings.filterwarnings(\"ignore\",category=FutureWarning)\n",
    "\n",
    "import numpy as np\n",
    "\n",
    "from sklearn.preprocessing import normalize\n",
    "\n",
    "from keras.layers import Input, Embedding, Dot, Reshape, Dense, Flatten\n",
    "from keras.models import Model, Sequential\n",
    "\n",
    "from itertools import combinations, product, permutations\n",
    "\n",
    "import random\n",
    "\n",
    "from sklearn.manifold import TSNE\n",
    "import matplotlib.pyplot as plt\n",
    "\n",
    "\n",
    "\n",
    "np.random.seed(42)"
   ]
  },
  {
   "cell_type": "markdown",
   "metadata": {},
   "source": [
    "## Simulating the data\n",
    "Since I didn't have access to any actual data, I decided to simulate it.\n",
    "\n",
    "The approach is as follows: each podcast has a set of attributes. Positive values mean that they have a lot of the attribute, negative values mean that they have a lot of the opposite attribute, and values close to zero mean that they are somewhere in between.\n",
    "\n",
    "Each of the people has a unique set of preferences for these attributes. These are then multiplied together and summed, to give a rating of how much a person liked that podcast. Positive values mean that they liked it a lot, negative values mean that they disliked it a lot. \n",
    "\n",
    "For example, if a very calm podcast had an attribute of \"-5 Scary\", and the person had a preference for \"-5 Scary\", that would become a very positive value. Likewise if the podcast had two positive values, that becomes a very positive rating. If there is a mismatch, they become negative.\n",
    "\n",
    "Later on, I threshold this data, to simulate people giving either a \"thumbs up\" or a \"thumbs down\"."
   ]
  },
  {
   "cell_type": "code",
   "execution_count": 87,
   "metadata": {},
   "outputs": [],
   "source": [
    "num_people = 1000\n",
    "\n",
    "# pod_attributes = [\"story-like\",\"scary\",\"informative\",\"brief\",\"sci-fi-like\",\"dramatic\",\n",
    "#                   \"optimistic\",\"comedic\",\"gossipy\",\"kid-friendly\"]\n",
    "# pods = [\"Folk Stories of America\", \"Folk Stories of England\", \"Life gives me Lemons\", \n",
    "#         \"My First Show\", \"Spooky Stories\", \"Two Thumbs Up\",  \"Weird Cats\", \"Friendly Inc.\"]\n",
    "\n",
    "num_attributes = 15\n",
    "pod_attributes = [x for x in range(num_attributes)]\n",
    "\n",
    "num_pods = 200\n",
    "pods = [x for x in range(num_pods)]\n",
    "\n",
    "num_pods = len(pods)\n",
    "pod_ids = [x for x in range(num_pods)]\n",
    "\n",
    "\n",
    "shape = (num_people,len(pod_attributes))\n",
    "means = [0 for x in pod_attributes]\n",
    "cov_max = [3 for x in pod_attributes]\n",
    "covs = np.diag(cov_max)\n",
    "\n",
    "# Each podcast has a different set of attributes and each person \n",
    "# has a different set of preferences for those attributes.\n",
    "prefs = np.random.multivariate_normal(means, covs, num_people)\n",
    "pod_attrs = np.random.multivariate_normal(means, covs, num_pods)\n",
    "\n",
    "final = np.zeros((num_people, num_pods))\n",
    "i = 0\n",
    "for person in prefs:\n",
    "    each = person * pod_attrs\n",
    "    final[i] = each.sum(axis=1)\n",
    "    i+=1\n"
   ]
  },
  {
   "cell_type": "code",
   "execution_count": 88,
   "metadata": {},
   "outputs": [
    {
     "name": "stdout",
     "output_type": "stream",
     "text": [
      "Number of people with 2 or more liked podcasts: 504\n",
      "Number of people with 2 or more disliked podcasts: 471\n"
     ]
    }
   ],
   "source": [
    "# Normalisation\n",
    "normed = np.array(normalize(final, norm=\"l2\"))\n",
    "\n",
    "threshold = 0.17\n",
    "liked = (normed > threshold).astype(int)\n",
    "disliked = (normed < -threshold).astype(int)\n",
    "\n",
    "\n",
    "\n",
    "\n",
    "# This is discarding those people who only liked or disliked one podcast:\n",
    "multiprefs_liked = liked.sum(axis=1) > 1\n",
    "multiprefs_disliked = disliked.sum(axis=1) > 1\n",
    "\n",
    "\n",
    "print(\"Number of people with 2 or more liked podcasts:\", np.sum(multiprefs_liked))\n",
    "print(\"Number of people with 2 or more disliked podcasts:\", np.sum(multiprefs_disliked))\n"
   ]
  },
  {
   "cell_type": "code",
   "execution_count": 89,
   "metadata": {},
   "outputs": [],
   "source": [
    "def get_dissimilar_pair(both):\n",
    "    # Choose a random person.\n",
    "    chosen_person = random.choices(both)[0]\n",
    "    \n",
    "    resample = True\n",
    "    attempts = 0\n",
    "    while resample:\n",
    "    # Choose a random podcast\n",
    "        first_pod_ix, second_pod_ix = random.sample(range(num_pods), 2)\n",
    "\n",
    "        first_pod_polarity = chosen_person[first_pod_ix]\n",
    "        second_pod_polarity = chosen_person[first_pod_ix]\n",
    "\n",
    "        if first_pod_polarity == 0 or second_pod_polarity == 0 or first_pod_polarity == -second_pod_polarity:\n",
    "            resample = False\n",
    "        elif attempts > 1000:\n",
    "            print(\"This person either liked everything, or disliked everything.\")\n",
    "            resample = False\n",
    "    \n",
    "    return (first_pod_ix, second_pod_ix)\n",
    "\n",
    "\n",
    "disliked[disliked > 0] = -1\n",
    "\n",
    "both = liked + disliked\n",
    "\n",
    "contains_similar = multiprefs_liked + multiprefs_disliked\n",
    "\n",
    "potential_similar_pairs = []\n",
    "\n",
    "for person in both[multiprefs_liked]:\n",
    "    person_liked = np.where(person == 1)[0]\n",
    "    potential_similar_pairs += list(permutations(person_liked, 2))\n",
    "    \n",
    "for person in both[multiprefs_disliked]:\n",
    "    person_disliked = np.where(person == -1)[0]\n",
    "    potential_similar_pairs += list(permutations(person_disliked, 2))\n",
    "    \n",
    "unique_similar_pairs = set(potential_similar_pairs)\n",
    "\n",
    "potential_dissimilar_pairs = []\n",
    "for i in range(len(potential_similar_pairs)):\n",
    "    dissimilar_pair = get_dissimilar_pair(both)\n",
    "    potential_dissimilar_pairs.append(dissimilar_pair)\n",
    "    "
   ]
  },
  {
   "cell_type": "code",
   "execution_count": 90,
   "metadata": {},
   "outputs": [
    {
     "name": "stdout",
     "output_type": "stream",
     "text": [
      "Training set:\t6297\n",
      "Testing set:\t2099\n"
     ]
    }
   ],
   "source": [
    "random.shuffle(potential_dissimilar_pairs)\n",
    "random.shuffle(potential_similar_pairs)\n",
    "    \n",
    "similar = potential_similar_pairs\n",
    "dissimilar = potential_dissimilar_pairs\n",
    "\n",
    "similar_labels = [1 for x in similar]\n",
    "dissimilar_labels = [0 for x in dissimilar]\n",
    "\n",
    "Xs = np.array(similar + dissimilar)\n",
    "labels = np.array(similar_labels + dissimilar_labels)\n",
    "\n",
    "\n",
    "train_size = int(len(Xs) * 0.75)\n",
    "\n",
    "shuffled = list(zip(Xs, labels))\n",
    "random.shuffle(shuffled)\n",
    "\n",
    "train = shuffled[0:train_size]\n",
    "test = shuffled[train_size:]\n",
    "# train Xs and train ys, also need to create a set of all of the ones that weren't selected\n",
    "train_Xs = np.array([x[0] for x in train])\n",
    "train_ys = np.array([x[1] for x in train])\n",
    "\n",
    "test_Xs = np.array([x[0] for x in test])\n",
    "test_ys = np.array([x[1] for x in test])\n",
    "\n",
    "print(\"Training set:\\t{}\".format(len(train)))\n",
    "print(\"Testing set:\\t{}\".format(len(test)))"
   ]
  },
  {
   "cell_type": "code",
   "execution_count": 91,
   "metadata": {},
   "outputs": [
    {
     "name": "stdout",
     "output_type": "stream",
     "text": [
      "_________________________________________________________________\n",
      "Layer (type)                 Output Shape              Param #   \n",
      "=================================================================\n",
      "embedding_2 (Embedding)      (None, 2, 50)             10000     \n",
      "_________________________________________________________________\n",
      "flatten_2 (Flatten)          (None, 100)               0         \n",
      "_________________________________________________________________\n",
      "dense_2 (Dense)              (None, 1)                 101       \n",
      "=================================================================\n",
      "Total params: 10,101\n",
      "Trainable params: 10,101\n",
      "Non-trainable params: 0\n",
      "_________________________________________________________________\n",
      "None\n"
     ]
    }
   ],
   "source": [
    "embedding_size = 50\n",
    "\n",
    "model = Sequential()\n",
    "model.add(Embedding(input_dim = num_pods, output_dim = embedding_size, input_length=2))\n",
    "model.add(Flatten())\n",
    "model.add(Dense(1, activation='sigmoid'))\n",
    "# compile the model\n",
    "model.compile(optimizer='adam', loss='binary_crossentropy', metrics=['acc'])\n",
    "# summarize the model\n",
    "print(model.summary())\n"
   ]
  },
  {
   "cell_type": "code",
   "execution_count": 92,
   "metadata": {},
   "outputs": [
    {
     "name": "stdout",
     "output_type": "stream",
     "text": [
      "Epoch 1/25\n",
      "6297/6297 [==============================] - 1s 113us/step - loss: 0.6071 - acc: 0.7489\n",
      "Epoch 2/25\n",
      "6297/6297 [==============================] - 0s 55us/step - loss: 0.4335 - acc: 0.8174\n",
      "Epoch 3/25\n",
      "6297/6297 [==============================] - 0s 56us/step - loss: 0.3949 - acc: 0.8245\n",
      "Epoch 4/25\n",
      "6297/6297 [==============================] - 0s 55us/step - loss: 0.3854 - acc: 0.8282\n",
      "Epoch 5/25\n",
      "6297/6297 [==============================] - 0s 58us/step - loss: 0.3809 - acc: 0.8266\n",
      "Epoch 6/25\n",
      "6297/6297 [==============================] - 0s 57us/step - loss: 0.3787 - acc: 0.8263\n",
      "Epoch 7/25\n",
      "6297/6297 [==============================] - 0s 54us/step - loss: 0.3769 - acc: 0.8293\n",
      "Epoch 8/25\n",
      "6297/6297 [==============================] - 0s 55us/step - loss: 0.3754 - acc: 0.8275\n",
      "Epoch 9/25\n",
      "6297/6297 [==============================] - 0s 56us/step - loss: 0.3748 - acc: 0.8258\n",
      "Epoch 10/25\n",
      "6297/6297 [==============================] - 0s 54us/step - loss: 0.3745 - acc: 0.8280\n",
      "Epoch 11/25\n",
      "6297/6297 [==============================] - 0s 57us/step - loss: 0.3732 - acc: 0.8272\n",
      "Epoch 12/25\n",
      "6297/6297 [==============================] - 0s 55us/step - loss: 0.3736 - acc: 0.8291\n",
      "Epoch 13/25\n",
      "6297/6297 [==============================] - 0s 56us/step - loss: 0.3731 - acc: 0.8269\n",
      "Epoch 14/25\n",
      "6297/6297 [==============================] - 0s 55us/step - loss: 0.3729 - acc: 0.8293\n",
      "Epoch 15/25\n",
      "6297/6297 [==============================] - 0s 55us/step - loss: 0.3726 - acc: 0.8290\n",
      "Epoch 16/25\n",
      "6297/6297 [==============================] - 0s 69us/step - loss: 0.3721 - acc: 0.8283\n",
      "Epoch 17/25\n",
      "6297/6297 [==============================] - 0s 55us/step - loss: 0.3718 - acc: 0.8306\n",
      "Epoch 18/25\n",
      "6297/6297 [==============================] - 0s 55us/step - loss: 0.3718 - acc: 0.8291\n",
      "Epoch 19/25\n",
      "6297/6297 [==============================] - 0s 59us/step - loss: 0.3714 - acc: 0.8288\n",
      "Epoch 20/25\n",
      "6297/6297 [==============================] - 0s 60us/step - loss: 0.3712 - acc: 0.8279\n",
      "Epoch 21/25\n",
      "6297/6297 [==============================] - 0s 56us/step - loss: 0.3712 - acc: 0.8288\n",
      "Epoch 22/25\n",
      "6297/6297 [==============================] - 0s 56us/step - loss: 0.3712 - acc: 0.8280\n",
      "Epoch 23/25\n",
      "6297/6297 [==============================] - 0s 58us/step - loss: 0.3710 - acc: 0.8302\n",
      "Epoch 24/25\n",
      "6297/6297 [==============================] - 0s 61us/step - loss: 0.3707 - acc: 0.8299\n",
      "Epoch 25/25\n",
      "6297/6297 [==============================] - 0s 61us/step - loss: 0.3707 - acc: 0.8296\n",
      "2099/2099 [==============================] - 0s 65us/step\n"
     ]
    }
   ],
   "source": [
    "# Fitting the model\n",
    "model.fit(train_Xs, train_ys, epochs=25, verbose=1)\n",
    "\n",
    "# Evaluation\n",
    "loss, accuracy = model.evaluate(test_Xs, test_ys, verbose=1)"
   ]
  },
  {
   "cell_type": "code",
   "execution_count": 93,
   "metadata": {},
   "outputs": [
    {
     "name": "stdout",
     "output_type": "stream",
     "text": [
      "Accuracy: 80.562172468757\n"
     ]
    }
   ],
   "source": [
    "print('Accuracy: {}'.format(accuracy*100))"
   ]
  },
  {
   "cell_type": "code",
   "execution_count": 94,
   "metadata": {},
   "outputs": [],
   "source": [
    "embeddings = model.layers[0].get_weights()[0]"
   ]
  },
  {
   "cell_type": "code",
   "execution_count": 95,
   "metadata": {},
   "outputs": [
    {
     "data": {
      "image/png": "[encoded data removed]",
      "text/plain": [
       "<matplotlib.figure.Figure at 0x1166caa2be0>"
      ]
     },
     "metadata": {},
     "output_type": "display_data"
    }
   ],
   "source": [
    "components = 2\n",
    "reduced_pods = TSNE(components, metric = 'cosine').fit_transform(embeddings)\n",
    "\n",
    "plt.figure(figsize = (10, 10))\n",
    "plt.plot(reduced_pods[:, 0], reduced_pods[:, 1], 'r.')\n",
    "plt.xlabel('TSNE 1'); plt.ylabel('TSNE 2'); plt.title('Podcast Embeddings');"
   ]
  },
  {
   "cell_type": "code",
   "execution_count": null,
   "metadata": {},
   "outputs": [],
   "source": []
  },
  {
   "cell_type": "code",
   "execution_count": null,
   "metadata": {},
   "outputs": [],
   "source": []
  }
 ],
 "metadata": {
  "kernelspec": {
   "display_name": "Python 3",
   "language": "python",
   "name": "python3"
  },
  "language_info": {
   "codemirror_mode": {
    "name": "ipython",
    "version": 3
   },
   "file_extension": ".py",
   "mimetype": "text/x-python",
   "name": "python",
   "nbconvert_exporter": "python",
   "pygments_lexer": "ipython3",
   "version": "3.6.4"
  }
 },
 "nbformat": 4,
 "nbformat_minor": 2
}
